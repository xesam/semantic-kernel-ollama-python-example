{
 "cells": [
  {
   "cell_type": "code",
   "execution_count": 3,
   "metadata": {},
   "outputs": [
    {
     "name": "stdout",
     "output_type": "stream",
     "text": [
      "Robots prioritize human safety above all.\n"
     ]
    }
   ],
   "source": [
    "from semantic_kernel import Kernel\n",
    "from semantic_kernel.prompt_template import PromptTemplateConfig\n",
    "from semantic_kernel.connectors.ai.ollama import OllamaChatCompletion\n",
    "from semantic_kernel.connectors.ai.ollama.ollama_prompt_execution_settings import OllamaChatPromptExecutionSettings\n",
    "\n",
    "kernel = Kernel()\n",
    "\n",
    "service_id = \"ollama\"\n",
    "kernel.add_service(\n",
    "    OllamaChatCompletion(\n",
    "        service_id=service_id,\n",
    "        host=\"http://localhost:11434\",\n",
    "        ai_model_id=\"llama3.1\",\n",
    "    )\n",
    ")\n",
    "execution_settings = OllamaChatPromptExecutionSettings()\n",
    "\n",
    "prompt = \"\"\"\n",
    "1) A robot may not injure a human being or, through inaction,\n",
    "allow a human being to come to harm.\n",
    "\n",
    "2) A robot must obey orders given it by human beings except where\n",
    "such orders would conflict with the First Law.\n",
    "\n",
    "3) A robot must protect its own existence as long as such protection\n",
    "does not conflict with the First or Second Law.\n",
    "\n",
    "Give me the TLDR in exactly 5 words.\"\"\"\n",
    "\n",
    "prompt_template_config = PromptTemplateConfig(\n",
    "    template=prompt, name=\"tldr\", template_format=\"semantic-kernel\"\n",
    ")\n",
    "\n",
    "function = kernel.add_function(\n",
    "    function_name=\"tldr_function\",\n",
    "    plugin_name=\"tldr_plugin\",\n",
    "    prompt_template_config=prompt_template_config,\n",
    "    prompt_execution_settings=execution_settings\n",
    ")\n",
    "\n",
    "\n",
    "# Run your prompt\n",
    "# Note: functions are run asynchronously\n",
    "async def main():\n",
    "    result = await kernel.invoke(function)\n",
    "    print(result)  # => Robots must not harm humans.\n",
    "\n",
    "# If running from a jupyter-notebook:\n",
    "await main()"
   ]
  }
 ],
 "metadata": {
  "kernelspec": {
   "display_name": "llm",
   "language": "python",
   "name": "python3"
  },
  "language_info": {
   "codemirror_mode": {
    "name": "ipython",
    "version": 3
   },
   "file_extension": ".py",
   "mimetype": "text/x-python",
   "name": "python",
   "nbconvert_exporter": "python",
   "pygments_lexer": "ipython3",
   "version": "3.12.3"
  }
 },
 "nbformat": 4,
 "nbformat_minor": 2
}
